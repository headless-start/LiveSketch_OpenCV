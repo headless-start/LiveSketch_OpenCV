{
 "cells": [
  {
   "cell_type": "code",
   "execution_count": null,
   "id": "fe193fdd-65fb-4a20-9236-7f9a541b2d53",
   "metadata": {},
   "outputs": [],
   "source": [
    "import numpy as np\n",
    "import cv2\n",
    "\n",
    "def sketch(frame):\n",
    "\t'''\n",
    "\tGenerate sketch given a stream from camera.\n",
    "\t@paramaters: frame \n",
    "\t'''\n",
    "\tgray = cv2.cvtColor(frame, cv2.COLOR_BGR2GRAY)\n",
    "\tblur = cv2.GaussianBlur(gray, (5, 5), 0)\n",
    "\tcanny = cv2.Canny(blur, 10, 70)\n",
    "\n",
    "\t# Adaptive Thresholding - No need to spicify threshold value\n",
    "\tthresh = cv2.adaptiveThreshold(canny, 255, cv2.ADAPTIVE_THRESH_MEAN_C, \n",
    "\t                               cv2.THRESH_BINARY, 3, 5)\n",
    "\treturn thresh\n",
    "\n",
    "capture = cv2.VideoCapture(0)\n",
    "\n",
    "while (True):\n",
    "\tresponse, frame = capture.read()\n",
    "\tcv2.imshow(\"Those edges(Adaptive Thresholding)\", sketch(frame))\n",
    "\tif cv2.waitKey(1) & 0xFF == ord('q'):\n",
    "\t\tbreak\n",
    "\n",
    "capture.release()\n",
    "cv2.waitKey(0)\n",
    "cv2.destroyAllWindows()\t"
   ]
  },
  {
   "cell_type": "code",
   "execution_count": null,
   "id": "77e6c308-b9c8-4841-aed0-54f30bc25954",
   "metadata": {},
   "outputs": [],
   "source": []
  }
 ],
 "metadata": {
  "kernelspec": {
   "display_name": "Python (my_venv)",
   "language": "python",
   "name": "my_venv"
  },
  "language_info": {
   "codemirror_mode": {
    "name": "ipython",
    "version": 3
   },
   "file_extension": ".py",
   "mimetype": "text/x-python",
   "name": "python",
   "nbconvert_exporter": "python",
   "pygments_lexer": "ipython3",
   "version": "3.12.3"
  }
 },
 "nbformat": 4,
 "nbformat_minor": 5
}
